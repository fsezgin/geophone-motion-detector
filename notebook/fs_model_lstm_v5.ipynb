{
 "cells": [
  {
   "cell_type": "code",
   "execution_count": 94,
   "id": "fd548476",
   "metadata": {},
   "outputs": [],
   "source": [
    "import os\n",
    "\n",
    "import pickle\n",
    "import pandas as pd\n",
    "import numpy as np\n",
    "\n",
    "from sklearn.preprocessing import LabelEncoder, MinMaxScaler\n",
    "from sklearn.model_selection import train_test_split\n",
    "from tensorflow.keras.models import Sequential\n",
    "from tensorflow.keras.layers import LSTM, Dense, Dropout, Input\n",
    "\n",
    "import matplotlib.pyplot as plt"
   ]
  },
  {
   "cell_type": "code",
   "execution_count": 85,
   "id": "b597289b",
   "metadata": {},
   "outputs": [],
   "source": [
    "df = pd.read_csv(r\"C:\\Users\\furka\\Desktop\\ain4311\\project\\real-time-motion-detector\\data\\geophone-sensor-data.csv\")\n",
    "sequence_length = 3"
   ]
  },
  {
   "cell_type": "code",
   "execution_count": 86,
   "id": "e4929df0",
   "metadata": {},
   "outputs": [
    {
     "data": {
      "text/html": [
       "<div>\n",
       "<style scoped>\n",
       "    .dataframe tbody tr th:only-of-type {\n",
       "        vertical-align: middle;\n",
       "    }\n",
       "\n",
       "    .dataframe tbody tr th {\n",
       "        vertical-align: top;\n",
       "    }\n",
       "\n",
       "    .dataframe thead th {\n",
       "        text-align: right;\n",
       "    }\n",
       "</style>\n",
       "<table border=\"1\" class=\"dataframe\">\n",
       "  <thead>\n",
       "    <tr style=\"text-align: right;\">\n",
       "      <th></th>\n",
       "      <th>timestamp</th>\n",
       "      <th>mean</th>\n",
       "      <th>top_3_mean</th>\n",
       "      <th>min</th>\n",
       "      <th>max</th>\n",
       "      <th>std_dev</th>\n",
       "      <th>median</th>\n",
       "      <th>q1</th>\n",
       "      <th>q3</th>\n",
       "      <th>skewness</th>\n",
       "      <th>dominant_freq</th>\n",
       "      <th>energy</th>\n",
       "      <th>activity</th>\n",
       "      <th>name</th>\n",
       "    </tr>\n",
       "  </thead>\n",
       "  <tbody>\n",
       "    <tr>\n",
       "      <th>0</th>\n",
       "      <td>01:51:43</td>\n",
       "      <td>2046.726000</td>\n",
       "      <td>2057.666667</td>\n",
       "      <td>2035</td>\n",
       "      <td>2060</td>\n",
       "      <td>3.452186</td>\n",
       "      <td>2047.0</td>\n",
       "      <td>2043.0</td>\n",
       "      <td>2049.0</td>\n",
       "      <td>-0.152574</td>\n",
       "      <td>601.0</td>\n",
       "      <td>1.988682e+09</td>\n",
       "      <td>walking</td>\n",
       "      <td>Yusuf</td>\n",
       "    </tr>\n",
       "    <tr>\n",
       "      <th>1</th>\n",
       "      <td>01:51:46</td>\n",
       "      <td>2046.619333</td>\n",
       "      <td>2053.000000</td>\n",
       "      <td>2040</td>\n",
       "      <td>2053</td>\n",
       "      <td>3.580469</td>\n",
       "      <td>2047.0</td>\n",
       "      <td>2044.0</td>\n",
       "      <td>2050.0</td>\n",
       "      <td>-0.150615</td>\n",
       "      <td>300.0</td>\n",
       "      <td>1.988028e+09</td>\n",
       "      <td>walking</td>\n",
       "      <td>Yusuf</td>\n",
       "    </tr>\n",
       "    <tr>\n",
       "      <th>2</th>\n",
       "      <td>01:51:50</td>\n",
       "      <td>2046.598000</td>\n",
       "      <td>2056.000000</td>\n",
       "      <td>2030</td>\n",
       "      <td>2059</td>\n",
       "      <td>3.592826</td>\n",
       "      <td>2047.0</td>\n",
       "      <td>2044.0</td>\n",
       "      <td>2049.0</td>\n",
       "      <td>-0.370125</td>\n",
       "      <td>300.0</td>\n",
       "      <td>1.987897e+09</td>\n",
       "      <td>walking</td>\n",
       "      <td>Yusuf</td>\n",
       "    </tr>\n",
       "    <tr>\n",
       "      <th>3</th>\n",
       "      <td>01:51:53</td>\n",
       "      <td>2046.560000</td>\n",
       "      <td>2054.000000</td>\n",
       "      <td>2039</td>\n",
       "      <td>2055</td>\n",
       "      <td>3.414830</td>\n",
       "      <td>2047.0</td>\n",
       "      <td>2044.0</td>\n",
       "      <td>2049.0</td>\n",
       "      <td>-0.321296</td>\n",
       "      <td>300.0</td>\n",
       "      <td>1.987662e+09</td>\n",
       "      <td>walking</td>\n",
       "      <td>Yusuf</td>\n",
       "    </tr>\n",
       "    <tr>\n",
       "      <th>4</th>\n",
       "      <td>01:51:56</td>\n",
       "      <td>2046.656667</td>\n",
       "      <td>2055.000000</td>\n",
       "      <td>2034</td>\n",
       "      <td>2057</td>\n",
       "      <td>3.356802</td>\n",
       "      <td>2048.0</td>\n",
       "      <td>2044.0</td>\n",
       "      <td>2049.0</td>\n",
       "      <td>-0.379134</td>\n",
       "      <td>300.0</td>\n",
       "      <td>1.988255e+09</td>\n",
       "      <td>walking</td>\n",
       "      <td>Yusuf</td>\n",
       "    </tr>\n",
       "  </tbody>\n",
       "</table>\n",
       "</div>"
      ],
      "text/plain": [
       "  timestamp         mean   top_3_mean   min   max   std_dev  median      q1  \\\n",
       "0  01:51:43  2046.726000  2057.666667  2035  2060  3.452186  2047.0  2043.0   \n",
       "1  01:51:46  2046.619333  2053.000000  2040  2053  3.580469  2047.0  2044.0   \n",
       "2  01:51:50  2046.598000  2056.000000  2030  2059  3.592826  2047.0  2044.0   \n",
       "3  01:51:53  2046.560000  2054.000000  2039  2055  3.414830  2047.0  2044.0   \n",
       "4  01:51:56  2046.656667  2055.000000  2034  2057  3.356802  2048.0  2044.0   \n",
       "\n",
       "       q3  skewness  dominant_freq        energy activity   name  \n",
       "0  2049.0 -0.152574          601.0  1.988682e+09  walking  Yusuf  \n",
       "1  2050.0 -0.150615          300.0  1.988028e+09  walking  Yusuf  \n",
       "2  2049.0 -0.370125          300.0  1.987897e+09  walking  Yusuf  \n",
       "3  2049.0 -0.321296          300.0  1.987662e+09  walking  Yusuf  \n",
       "4  2049.0 -0.379134          300.0  1.988255e+09  walking  Yusuf  "
      ]
     },
     "execution_count": 86,
     "metadata": {},
     "output_type": "execute_result"
    }
   ],
   "source": [
    "df.head()"
   ]
  },
  {
   "cell_type": "code",
   "execution_count": 87,
   "id": "8bebf1f4",
   "metadata": {},
   "outputs": [
    {
     "name": "stdout",
     "output_type": "stream",
     "text": [
      "<class 'pandas.core.frame.DataFrame'>\n",
      "RangeIndex: 1800 entries, 0 to 1799\n",
      "Data columns (total 14 columns):\n",
      " #   Column         Non-Null Count  Dtype  \n",
      "---  ------         --------------  -----  \n",
      " 0   timestamp      1800 non-null   object \n",
      " 1   mean           1800 non-null   float64\n",
      " 2   top_3_mean     1800 non-null   float64\n",
      " 3   min            1800 non-null   int64  \n",
      " 4   max            1800 non-null   int64  \n",
      " 5   std_dev        1800 non-null   float64\n",
      " 6   median         1800 non-null   float64\n",
      " 7   q1             1800 non-null   float64\n",
      " 8   q3             1800 non-null   float64\n",
      " 9   skewness       1800 non-null   float64\n",
      " 10  dominant_freq  1800 non-null   float64\n",
      " 11  energy         1800 non-null   float64\n",
      " 12  activity       1800 non-null   object \n",
      " 13  name           1800 non-null   object \n",
      "dtypes: float64(9), int64(2), object(3)\n",
      "memory usage: 197.0+ KB\n"
     ]
    }
   ],
   "source": [
    "df.info()"
   ]
  },
  {
   "cell_type": "markdown",
   "id": "3d926e2e",
   "metadata": {},
   "source": [
    "# Data Preprocessing"
   ]
  },
  {
   "cell_type": "code",
   "execution_count": 88,
   "id": "f6d4eed5",
   "metadata": {},
   "outputs": [],
   "source": [
    "def preprocess_data(dataframe, sequence_length):\n",
    "    # Label the 'name' column\n",
    "    label_encoder = LabelEncoder()\n",
    "    dataframe['name_encoded'] = label_encoder.fit_transform(dataframe['name'])\n",
    "    \n",
    "    # Split the feature and target variables\n",
    "    features = dataframe.drop(columns = ['timestamp', 'name', 'name_encoded', 'activity']).values\n",
    "    target = dataframe['name_encoded'].values\n",
    "    \n",
    "    # Scaling numeric features\n",
    "    scaler = MinMaxScaler()\n",
    "    scaled_features = scaler.fit_transform(features)\n",
    "    \n",
    "    X, y = [], []\n",
    "    for i in range(sequence_length, len(scaled_features)):\n",
    "        X.append(scaled_features[i-sequence_length:i])\n",
    "        y.append(target[i])\n",
    "    \n",
    "    X, y = np.array(X), np.array(y)\n",
    "    \n",
    "    # Save the scaler and label_encoder\n",
    "    config_path = r'C:\\Users\\furka\\Desktop\\ain4311\\project\\real-time-motion-detector\\config'\n",
    "    \n",
    "    # Save the scaler\n",
    "    scaler_path = os.path.join(config_path, 'scaler.pkl')\n",
    "    with open(scaler_path, 'wb') as f:\n",
    "        pickle.dump(scaler, f)\n",
    "\n",
    "    # Save the label_encoder\n",
    "    label_encoder_path = os.path.join(config_path, 'label_encoder.pkl')\n",
    "    with open(label_encoder_path, 'wb') as f:\n",
    "        pickle.dump(label_encoder, f)\n",
    "\n",
    "    return X, y, scaler, label_encoder"
   ]
  },
  {
   "cell_type": "code",
   "execution_count": 89,
   "id": "ee5ecc42",
   "metadata": {},
   "outputs": [],
   "source": [
    "def create_lstm_model(input_shape, num_classes):\n",
    "    \n",
    "    model_dir = \"../models/\"\n",
    "    model_version = 1\n",
    "    \n",
    "    model = Sequential([\n",
    "        Input(shape=input_shape),\n",
    "        LSTM(64, return_sequences=True),\n",
    "        Dropout(0.2),\n",
    "        LSTM(32, return_sequences=False),\n",
    "        Dropout(0.2),\n",
    "        Dense(16, activation='relu'),\n",
    "        Dense(num_classes, activation='softmax')\n",
    "    ])\n",
    "    \n",
    "    model.compile(optimizer='adam',\n",
    "                  loss='sparse_categorical_crossentropy',\n",
    "                  metrics=['accuracy'])\n",
    "    \n",
    "    save_model_with_version( model = model,\n",
    "                             model_dir = model_dir,\n",
    "                             name = \"fs_model_lstm_v5.h5\")\n",
    "    \n",
    "    return model"
   ]
  },
  {
   "cell_type": "code",
   "execution_count": 90,
   "id": "f532bb37",
   "metadata": {},
   "outputs": [],
   "source": [
    "def save_model_with_version(model, model_dir, name):\n",
    "\n",
    "    if not os.path.exists(model_dir):\n",
    "        os.makedirs(model_dir)\n",
    "\n",
    "    model_version = len(os.listdir(model_dir)) + 1\n",
    "\n",
    "    model_version_dir = os.path.join(model_dir, str(model_version))\n",
    "    if not os.path.exists(model_version_dir):\n",
    "        os.makedirs(model_version_dir)\n",
    "\n",
    "    model.save(os.path.join(model_version_dir, name))"
   ]
  },
  {
   "cell_type": "code",
   "execution_count": 91,
   "id": "c4cfad20",
   "metadata": {},
   "outputs": [],
   "source": [
    "def plot_training_history(history):\n",
    "    plt.plot(history.history['loss'], label='Eğitim Kaybı')\n",
    "    plt.plot(history.history['val_loss'], label='Doğrulama Kaybı')\n",
    "    plt.legend()\n",
    "    plt.show()"
   ]
  },
  {
   "cell_type": "code",
   "execution_count": 95,
   "id": "12d8c3eb",
   "metadata": {},
   "outputs": [],
   "source": [
    "X, y, scaler, label_encoder = preprocess_data(df, sequence_length)"
   ]
  },
  {
   "cell_type": "code",
   "execution_count": 96,
   "id": "590048c8",
   "metadata": {},
   "outputs": [],
   "source": [
    "X_train, X_test, y_train, y_test = train_test_split(X, y, test_size=0.2, stratify=y)"
   ]
  },
  {
   "cell_type": "code",
   "execution_count": 97,
   "id": "bd83ae8f",
   "metadata": {},
   "outputs": [
    {
     "name": "stderr",
     "output_type": "stream",
     "text": [
      "WARNING:absl:You are saving your model as an HDF5 file via `model.save()` or `keras.saving.save_model(model)`. This file format is considered legacy. We recommend using instead the native Keras format, e.g. `model.save('my_model.keras')` or `keras.saving.save_model(model, 'my_model.keras')`. \n"
     ]
    },
    {
     "data": {
      "text/html": [
       "<pre style=\"white-space:pre;overflow-x:auto;line-height:normal;font-family:Menlo,'DejaVu Sans Mono',consolas,'Courier New',monospace\"><span style=\"font-weight: bold\">Model: \"sequential_4\"</span>\n",
       "</pre>\n"
      ],
      "text/plain": [
       "\u001b[1mModel: \"sequential_4\"\u001b[0m\n"
      ]
     },
     "metadata": {},
     "output_type": "display_data"
    },
    {
     "data": {
      "text/html": [
       "<pre style=\"white-space:pre;overflow-x:auto;line-height:normal;font-family:Menlo,'DejaVu Sans Mono',consolas,'Courier New',monospace\">┏━━━━━━━━━━━━━━━━━━━━━━━━━━━━━━━━━┳━━━━━━━━━━━━━━━━━━━━━━━━┳━━━━━━━━━━━━━━━┓\n",
       "┃<span style=\"font-weight: bold\"> Layer (type)                    </span>┃<span style=\"font-weight: bold\"> Output Shape           </span>┃<span style=\"font-weight: bold\">       Param # </span>┃\n",
       "┡━━━━━━━━━━━━━━━━━━━━━━━━━━━━━━━━━╇━━━━━━━━━━━━━━━━━━━━━━━━╇━━━━━━━━━━━━━━━┩\n",
       "│ lstm_8 (<span style=\"color: #0087ff; text-decoration-color: #0087ff\">LSTM</span>)                   │ (<span style=\"color: #00d7ff; text-decoration-color: #00d7ff\">None</span>, <span style=\"color: #00af00; text-decoration-color: #00af00\">3</span>, <span style=\"color: #00af00; text-decoration-color: #00af00\">64</span>)          │        <span style=\"color: #00af00; text-decoration-color: #00af00\">19,456</span> │\n",
       "├─────────────────────────────────┼────────────────────────┼───────────────┤\n",
       "│ dropout_8 (<span style=\"color: #0087ff; text-decoration-color: #0087ff\">Dropout</span>)             │ (<span style=\"color: #00d7ff; text-decoration-color: #00d7ff\">None</span>, <span style=\"color: #00af00; text-decoration-color: #00af00\">3</span>, <span style=\"color: #00af00; text-decoration-color: #00af00\">64</span>)          │             <span style=\"color: #00af00; text-decoration-color: #00af00\">0</span> │\n",
       "├─────────────────────────────────┼────────────────────────┼───────────────┤\n",
       "│ lstm_9 (<span style=\"color: #0087ff; text-decoration-color: #0087ff\">LSTM</span>)                   │ (<span style=\"color: #00d7ff; text-decoration-color: #00d7ff\">None</span>, <span style=\"color: #00af00; text-decoration-color: #00af00\">32</span>)             │        <span style=\"color: #00af00; text-decoration-color: #00af00\">12,416</span> │\n",
       "├─────────────────────────────────┼────────────────────────┼───────────────┤\n",
       "│ dropout_9 (<span style=\"color: #0087ff; text-decoration-color: #0087ff\">Dropout</span>)             │ (<span style=\"color: #00d7ff; text-decoration-color: #00d7ff\">None</span>, <span style=\"color: #00af00; text-decoration-color: #00af00\">32</span>)             │             <span style=\"color: #00af00; text-decoration-color: #00af00\">0</span> │\n",
       "├─────────────────────────────────┼────────────────────────┼───────────────┤\n",
       "│ dense_8 (<span style=\"color: #0087ff; text-decoration-color: #0087ff\">Dense</span>)                 │ (<span style=\"color: #00d7ff; text-decoration-color: #00d7ff\">None</span>, <span style=\"color: #00af00; text-decoration-color: #00af00\">16</span>)             │           <span style=\"color: #00af00; text-decoration-color: #00af00\">528</span> │\n",
       "├─────────────────────────────────┼────────────────────────┼───────────────┤\n",
       "│ dense_9 (<span style=\"color: #0087ff; text-decoration-color: #0087ff\">Dense</span>)                 │ (<span style=\"color: #00d7ff; text-decoration-color: #00d7ff\">None</span>, <span style=\"color: #00af00; text-decoration-color: #00af00\">5</span>)              │            <span style=\"color: #00af00; text-decoration-color: #00af00\">85</span> │\n",
       "└─────────────────────────────────┴────────────────────────┴───────────────┘\n",
       "</pre>\n"
      ],
      "text/plain": [
       "┏━━━━━━━━━━━━━━━━━━━━━━━━━━━━━━━━━┳━━━━━━━━━━━━━━━━━━━━━━━━┳━━━━━━━━━━━━━━━┓\n",
       "┃\u001b[1m \u001b[0m\u001b[1mLayer (type)                   \u001b[0m\u001b[1m \u001b[0m┃\u001b[1m \u001b[0m\u001b[1mOutput Shape          \u001b[0m\u001b[1m \u001b[0m┃\u001b[1m \u001b[0m\u001b[1m      Param #\u001b[0m\u001b[1m \u001b[0m┃\n",
       "┡━━━━━━━━━━━━━━━━━━━━━━━━━━━━━━━━━╇━━━━━━━━━━━━━━━━━━━━━━━━╇━━━━━━━━━━━━━━━┩\n",
       "│ lstm_8 (\u001b[38;5;33mLSTM\u001b[0m)                   │ (\u001b[38;5;45mNone\u001b[0m, \u001b[38;5;34m3\u001b[0m, \u001b[38;5;34m64\u001b[0m)          │        \u001b[38;5;34m19,456\u001b[0m │\n",
       "├─────────────────────────────────┼────────────────────────┼───────────────┤\n",
       "│ dropout_8 (\u001b[38;5;33mDropout\u001b[0m)             │ (\u001b[38;5;45mNone\u001b[0m, \u001b[38;5;34m3\u001b[0m, \u001b[38;5;34m64\u001b[0m)          │             \u001b[38;5;34m0\u001b[0m │\n",
       "├─────────────────────────────────┼────────────────────────┼───────────────┤\n",
       "│ lstm_9 (\u001b[38;5;33mLSTM\u001b[0m)                   │ (\u001b[38;5;45mNone\u001b[0m, \u001b[38;5;34m32\u001b[0m)             │        \u001b[38;5;34m12,416\u001b[0m │\n",
       "├─────────────────────────────────┼────────────────────────┼───────────────┤\n",
       "│ dropout_9 (\u001b[38;5;33mDropout\u001b[0m)             │ (\u001b[38;5;45mNone\u001b[0m, \u001b[38;5;34m32\u001b[0m)             │             \u001b[38;5;34m0\u001b[0m │\n",
       "├─────────────────────────────────┼────────────────────────┼───────────────┤\n",
       "│ dense_8 (\u001b[38;5;33mDense\u001b[0m)                 │ (\u001b[38;5;45mNone\u001b[0m, \u001b[38;5;34m16\u001b[0m)             │           \u001b[38;5;34m528\u001b[0m │\n",
       "├─────────────────────────────────┼────────────────────────┼───────────────┤\n",
       "│ dense_9 (\u001b[38;5;33mDense\u001b[0m)                 │ (\u001b[38;5;45mNone\u001b[0m, \u001b[38;5;34m5\u001b[0m)              │            \u001b[38;5;34m85\u001b[0m │\n",
       "└─────────────────────────────────┴────────────────────────┴───────────────┘\n"
      ]
     },
     "metadata": {},
     "output_type": "display_data"
    },
    {
     "data": {
      "text/html": [
       "<pre style=\"white-space:pre;overflow-x:auto;line-height:normal;font-family:Menlo,'DejaVu Sans Mono',consolas,'Courier New',monospace\"><span style=\"font-weight: bold\"> Total params: </span><span style=\"color: #00af00; text-decoration-color: #00af00\">32,485</span> (126.89 KB)\n",
       "</pre>\n"
      ],
      "text/plain": [
       "\u001b[1m Total params: \u001b[0m\u001b[38;5;34m32,485\u001b[0m (126.89 KB)\n"
      ]
     },
     "metadata": {},
     "output_type": "display_data"
    },
    {
     "data": {
      "text/html": [
       "<pre style=\"white-space:pre;overflow-x:auto;line-height:normal;font-family:Menlo,'DejaVu Sans Mono',consolas,'Courier New',monospace\"><span style=\"font-weight: bold\"> Trainable params: </span><span style=\"color: #00af00; text-decoration-color: #00af00\">32,485</span> (126.89 KB)\n",
       "</pre>\n"
      ],
      "text/plain": [
       "\u001b[1m Trainable params: \u001b[0m\u001b[38;5;34m32,485\u001b[0m (126.89 KB)\n"
      ]
     },
     "metadata": {},
     "output_type": "display_data"
    },
    {
     "data": {
      "text/html": [
       "<pre style=\"white-space:pre;overflow-x:auto;line-height:normal;font-family:Menlo,'DejaVu Sans Mono',consolas,'Courier New',monospace\"><span style=\"font-weight: bold\"> Non-trainable params: </span><span style=\"color: #00af00; text-decoration-color: #00af00\">0</span> (0.00 B)\n",
       "</pre>\n"
      ],
      "text/plain": [
       "\u001b[1m Non-trainable params: \u001b[0m\u001b[38;5;34m0\u001b[0m (0.00 B)\n"
      ]
     },
     "metadata": {},
     "output_type": "display_data"
    }
   ],
   "source": [
    "# Create the model\n",
    "input_shape = (X_train.shape[1], X_train.shape[2])\n",
    "num_classes = len(np.unique(y))\n",
    "model = create_lstm_model(input_shape, num_classes)\n",
    "model.summary()"
   ]
  },
  {
   "cell_type": "code",
   "execution_count": 98,
   "id": "7a09f187",
   "metadata": {},
   "outputs": [
    {
     "name": "stdout",
     "output_type": "stream",
     "text": [
      "Epoch 1/50\n",
      "\u001b[1m575/575\u001b[0m \u001b[32m━━━━━━━━━━━━━━━━━━━━\u001b[0m\u001b[37m\u001b[0m \u001b[1m4s\u001b[0m 3ms/step - accuracy: 0.3930 - loss: 1.3083 - val_accuracy: 0.6007 - val_loss: 0.8906\n",
      "Epoch 2/50\n",
      "\u001b[1m575/575\u001b[0m \u001b[32m━━━━━━━━━━━━━━━━━━━━\u001b[0m\u001b[37m\u001b[0m \u001b[1m1s\u001b[0m 2ms/step - accuracy: 0.5984 - loss: 0.8995 - val_accuracy: 0.5903 - val_loss: 0.8499\n",
      "Epoch 3/50\n",
      "\u001b[1m575/575\u001b[0m \u001b[32m━━━━━━━━━━━━━━━━━━━━\u001b[0m\u001b[37m\u001b[0m \u001b[1m1s\u001b[0m 2ms/step - accuracy: 0.5817 - loss: 0.8779 - val_accuracy: 0.6771 - val_loss: 0.7916\n",
      "Epoch 4/50\n",
      "\u001b[1m575/575\u001b[0m \u001b[32m━━━━━━━━━━━━━━━━━━━━\u001b[0m\u001b[37m\u001b[0m \u001b[1m2s\u001b[0m 3ms/step - accuracy: 0.6474 - loss: 0.8411 - val_accuracy: 0.6701 - val_loss: 0.7730\n",
      "Epoch 5/50\n",
      "\u001b[1m575/575\u001b[0m \u001b[32m━━━━━━━━━━━━━━━━━━━━\u001b[0m\u001b[37m\u001b[0m \u001b[1m2s\u001b[0m 3ms/step - accuracy: 0.6226 - loss: 0.8201 - val_accuracy: 0.6806 - val_loss: 0.7393\n",
      "Epoch 6/50\n",
      "\u001b[1m575/575\u001b[0m \u001b[32m━━━━━━━━━━━━━━━━━━━━\u001b[0m\u001b[37m\u001b[0m \u001b[1m1s\u001b[0m 2ms/step - accuracy: 0.6797 - loss: 0.7455 - val_accuracy: 0.6528 - val_loss: 0.8133\n",
      "Epoch 7/50\n",
      "\u001b[1m575/575\u001b[0m \u001b[32m━━━━━━━━━━━━━━━━━━━━\u001b[0m\u001b[37m\u001b[0m \u001b[1m2s\u001b[0m 3ms/step - accuracy: 0.6700 - loss: 0.7391 - val_accuracy: 0.7014 - val_loss: 0.7155\n",
      "Epoch 8/50\n",
      "\u001b[1m575/575\u001b[0m \u001b[32m━━━━━━━━━━━━━━━━━━━━\u001b[0m\u001b[37m\u001b[0m \u001b[1m1s\u001b[0m 3ms/step - accuracy: 0.6696 - loss: 0.6988 - val_accuracy: 0.5938 - val_loss: 0.8077\n",
      "Epoch 9/50\n",
      "\u001b[1m575/575\u001b[0m \u001b[32m━━━━━━━━━━━━━━━━━━━━\u001b[0m\u001b[37m\u001b[0m \u001b[1m2s\u001b[0m 3ms/step - accuracy: 0.6595 - loss: 0.7447 - val_accuracy: 0.6771 - val_loss: 0.6690\n",
      "Epoch 10/50\n",
      "\u001b[1m575/575\u001b[0m \u001b[32m━━━━━━━━━━━━━━━━━━━━\u001b[0m\u001b[37m\u001b[0m \u001b[1m1s\u001b[0m 2ms/step - accuracy: 0.7041 - loss: 0.6539 - val_accuracy: 0.6979 - val_loss: 0.6830\n",
      "Epoch 11/50\n",
      "\u001b[1m575/575\u001b[0m \u001b[32m━━━━━━━━━━━━━━━━━━━━\u001b[0m\u001b[37m\u001b[0m \u001b[1m1s\u001b[0m 2ms/step - accuracy: 0.6953 - loss: 0.6615 - val_accuracy: 0.6875 - val_loss: 0.6848\n",
      "Epoch 12/50\n",
      "\u001b[1m575/575\u001b[0m \u001b[32m━━━━━━━━━━━━━━━━━━━━\u001b[0m\u001b[37m\u001b[0m \u001b[1m1s\u001b[0m 2ms/step - accuracy: 0.7102 - loss: 0.6192 - val_accuracy: 0.7188 - val_loss: 0.6060\n",
      "Epoch 13/50\n",
      "\u001b[1m575/575\u001b[0m \u001b[32m━━━━━━━━━━━━━━━━━━━━\u001b[0m\u001b[37m\u001b[0m \u001b[1m1s\u001b[0m 2ms/step - accuracy: 0.7121 - loss: 0.6371 - val_accuracy: 0.7257 - val_loss: 0.6003\n",
      "Epoch 14/50\n",
      "\u001b[1m575/575\u001b[0m \u001b[32m━━━━━━━━━━━━━━━━━━━━\u001b[0m\u001b[37m\u001b[0m \u001b[1m1s\u001b[0m 2ms/step - accuracy: 0.7204 - loss: 0.6458 - val_accuracy: 0.7535 - val_loss: 0.6003\n",
      "Epoch 15/50\n",
      "\u001b[1m575/575\u001b[0m \u001b[32m━━━━━━━━━━━━━━━━━━━━\u001b[0m\u001b[37m\u001b[0m \u001b[1m1s\u001b[0m 2ms/step - accuracy: 0.7412 - loss: 0.5766 - val_accuracy: 0.7604 - val_loss: 0.5751\n",
      "Epoch 16/50\n",
      "\u001b[1m575/575\u001b[0m \u001b[32m━━━━━━━━━━━━━━━━━━━━\u001b[0m\u001b[37m\u001b[0m \u001b[1m1s\u001b[0m 2ms/step - accuracy: 0.7391 - loss: 0.6024 - val_accuracy: 0.6354 - val_loss: 0.7576\n",
      "Epoch 17/50\n",
      "\u001b[1m575/575\u001b[0m \u001b[32m━━━━━━━━━━━━━━━━━━━━\u001b[0m\u001b[37m\u001b[0m \u001b[1m1s\u001b[0m 2ms/step - accuracy: 0.7534 - loss: 0.5686 - val_accuracy: 0.7847 - val_loss: 0.5239\n",
      "Epoch 18/50\n",
      "\u001b[1m575/575\u001b[0m \u001b[32m━━━━━━━━━━━━━━━━━━━━\u001b[0m\u001b[37m\u001b[0m \u001b[1m1s\u001b[0m 3ms/step - accuracy: 0.7869 - loss: 0.5146 - val_accuracy: 0.7361 - val_loss: 0.5799\n",
      "Epoch 19/50\n",
      "\u001b[1m575/575\u001b[0m \u001b[32m━━━━━━━━━━━━━━━━━━━━\u001b[0m\u001b[37m\u001b[0m \u001b[1m2s\u001b[0m 3ms/step - accuracy: 0.7809 - loss: 0.5435 - val_accuracy: 0.7535 - val_loss: 0.5260\n",
      "Epoch 20/50\n",
      "\u001b[1m575/575\u001b[0m \u001b[32m━━━━━━━━━━━━━━━━━━━━\u001b[0m\u001b[37m\u001b[0m \u001b[1m1s\u001b[0m 3ms/step - accuracy: 0.7591 - loss: 0.5483 - val_accuracy: 0.7118 - val_loss: 0.6492\n",
      "Epoch 21/50\n",
      "\u001b[1m575/575\u001b[0m \u001b[32m━━━━━━━━━━━━━━━━━━━━\u001b[0m\u001b[37m\u001b[0m \u001b[1m1s\u001b[0m 3ms/step - accuracy: 0.7703 - loss: 0.5667 - val_accuracy: 0.8090 - val_loss: 0.4683\n",
      "Epoch 22/50\n",
      "\u001b[1m575/575\u001b[0m \u001b[32m━━━━━━━━━━━━━━━━━━━━\u001b[0m\u001b[37m\u001b[0m \u001b[1m1s\u001b[0m 3ms/step - accuracy: 0.7929 - loss: 0.5095 - val_accuracy: 0.7639 - val_loss: 0.5302\n",
      "Epoch 23/50\n",
      "\u001b[1m575/575\u001b[0m \u001b[32m━━━━━━━━━━━━━━━━━━━━\u001b[0m\u001b[37m\u001b[0m \u001b[1m1s\u001b[0m 3ms/step - accuracy: 0.7994 - loss: 0.4775 - val_accuracy: 0.7812 - val_loss: 0.4769\n",
      "Epoch 24/50\n",
      "\u001b[1m575/575\u001b[0m \u001b[32m━━━━━━━━━━━━━━━━━━━━\u001b[0m\u001b[37m\u001b[0m \u001b[1m1s\u001b[0m 2ms/step - accuracy: 0.8136 - loss: 0.4356 - val_accuracy: 0.8056 - val_loss: 0.4818\n",
      "Epoch 25/50\n",
      "\u001b[1m575/575\u001b[0m \u001b[32m━━━━━━━━━━━━━━━━━━━━\u001b[0m\u001b[37m\u001b[0m \u001b[1m2s\u001b[0m 3ms/step - accuracy: 0.8032 - loss: 0.4835 - val_accuracy: 0.7951 - val_loss: 0.4479\n",
      "Epoch 26/50\n",
      "\u001b[1m575/575\u001b[0m \u001b[32m━━━━━━━━━━━━━━━━━━━━\u001b[0m\u001b[37m\u001b[0m \u001b[1m2s\u001b[0m 3ms/step - accuracy: 0.8099 - loss: 0.4510 - val_accuracy: 0.7569 - val_loss: 0.5746\n",
      "Epoch 27/50\n",
      "\u001b[1m575/575\u001b[0m \u001b[32m━━━━━━━━━━━━━━━━━━━━\u001b[0m\u001b[37m\u001b[0m \u001b[1m1s\u001b[0m 3ms/step - accuracy: 0.8138 - loss: 0.4429 - val_accuracy: 0.8194 - val_loss: 0.4506\n",
      "Epoch 28/50\n",
      "\u001b[1m575/575\u001b[0m \u001b[32m━━━━━━━━━━━━━━━━━━━━\u001b[0m\u001b[37m\u001b[0m \u001b[1m1s\u001b[0m 2ms/step - accuracy: 0.7957 - loss: 0.4834 - val_accuracy: 0.8160 - val_loss: 0.4422\n",
      "Epoch 29/50\n",
      "\u001b[1m575/575\u001b[0m \u001b[32m━━━━━━━━━━━━━━━━━━━━\u001b[0m\u001b[37m\u001b[0m \u001b[1m2s\u001b[0m 3ms/step - accuracy: 0.8246 - loss: 0.4481 - val_accuracy: 0.8194 - val_loss: 0.5065\n",
      "Epoch 30/50\n",
      "\u001b[1m575/575\u001b[0m \u001b[32m━━━━━━━━━━━━━━━━━━━━\u001b[0m\u001b[37m\u001b[0m \u001b[1m2s\u001b[0m 3ms/step - accuracy: 0.8180 - loss: 0.4527 - val_accuracy: 0.8056 - val_loss: 0.4747\n",
      "Epoch 31/50\n",
      "\u001b[1m575/575\u001b[0m \u001b[32m━━━━━━━━━━━━━━━━━━━━\u001b[0m\u001b[37m\u001b[0m \u001b[1m2s\u001b[0m 3ms/step - accuracy: 0.8157 - loss: 0.4117 - val_accuracy: 0.8542 - val_loss: 0.3917\n",
      "Epoch 32/50\n",
      "\u001b[1m575/575\u001b[0m \u001b[32m━━━━━━━━━━━━━━━━━━━━\u001b[0m\u001b[37m\u001b[0m \u001b[1m2s\u001b[0m 3ms/step - accuracy: 0.8622 - loss: 0.3428 - val_accuracy: 0.8056 - val_loss: 0.5098\n",
      "Epoch 33/50\n",
      "\u001b[1m575/575\u001b[0m \u001b[32m━━━━━━━━━━━━━━━━━━━━\u001b[0m\u001b[37m\u001b[0m \u001b[1m2s\u001b[0m 3ms/step - accuracy: 0.8184 - loss: 0.4312 - val_accuracy: 0.8229 - val_loss: 0.4428\n",
      "Epoch 34/50\n",
      "\u001b[1m575/575\u001b[0m \u001b[32m━━━━━━━━━━━━━━━━━━━━\u001b[0m\u001b[37m\u001b[0m \u001b[1m2s\u001b[0m 3ms/step - accuracy: 0.8191 - loss: 0.4340 - val_accuracy: 0.8576 - val_loss: 0.3717\n",
      "Epoch 35/50\n",
      "\u001b[1m575/575\u001b[0m \u001b[32m━━━━━━━━━━━━━━━━━━━━\u001b[0m\u001b[37m\u001b[0m \u001b[1m2s\u001b[0m 3ms/step - accuracy: 0.8654 - loss: 0.3577 - val_accuracy: 0.8090 - val_loss: 0.4554\n",
      "Epoch 36/50\n",
      "\u001b[1m575/575\u001b[0m \u001b[32m━━━━━━━━━━━━━━━━━━━━\u001b[0m\u001b[37m\u001b[0m \u001b[1m2s\u001b[0m 3ms/step - accuracy: 0.8225 - loss: 0.4027 - val_accuracy: 0.8333 - val_loss: 0.4059\n",
      "Epoch 37/50\n",
      "\u001b[1m575/575\u001b[0m \u001b[32m━━━━━━━━━━━━━━━━━━━━\u001b[0m\u001b[37m\u001b[0m \u001b[1m2s\u001b[0m 3ms/step - accuracy: 0.8538 - loss: 0.3795 - val_accuracy: 0.8542 - val_loss: 0.3898\n",
      "Epoch 38/50\n",
      "\u001b[1m575/575\u001b[0m \u001b[32m━━━━━━━━━━━━━━━━━━━━\u001b[0m\u001b[37m\u001b[0m \u001b[1m2s\u001b[0m 3ms/step - accuracy: 0.8346 - loss: 0.3770 - val_accuracy: 0.8472 - val_loss: 0.4322\n",
      "Epoch 39/50\n",
      "\u001b[1m575/575\u001b[0m \u001b[32m━━━━━━━━━━━━━━━━━━━━\u001b[0m\u001b[37m\u001b[0m \u001b[1m2s\u001b[0m 3ms/step - accuracy: 0.8368 - loss: 0.3957 - val_accuracy: 0.8472 - val_loss: 0.4194\n",
      "Epoch 40/50\n",
      "\u001b[1m575/575\u001b[0m \u001b[32m━━━━━━━━━━━━━━━━━━━━\u001b[0m\u001b[37m\u001b[0m \u001b[1m2s\u001b[0m 3ms/step - accuracy: 0.8502 - loss: 0.3949 - val_accuracy: 0.8403 - val_loss: 0.4111\n",
      "Epoch 41/50\n",
      "\u001b[1m575/575\u001b[0m \u001b[32m━━━━━━━━━━━━━━━━━━━━\u001b[0m\u001b[37m\u001b[0m \u001b[1m2s\u001b[0m 3ms/step - accuracy: 0.8521 - loss: 0.3447 - val_accuracy: 0.8125 - val_loss: 0.4112\n",
      "Epoch 42/50\n",
      "\u001b[1m575/575\u001b[0m \u001b[32m━━━━━━━━━━━━━━━━━━━━\u001b[0m\u001b[37m\u001b[0m \u001b[1m2s\u001b[0m 3ms/step - accuracy: 0.8360 - loss: 0.4031 - val_accuracy: 0.8646 - val_loss: 0.3917\n",
      "Epoch 43/50\n",
      "\u001b[1m575/575\u001b[0m \u001b[32m━━━━━━━━━━━━━━━━━━━━\u001b[0m\u001b[37m\u001b[0m \u001b[1m2s\u001b[0m 3ms/step - accuracy: 0.8648 - loss: 0.3402 - val_accuracy: 0.8056 - val_loss: 0.4514\n",
      "Epoch 44/50\n",
      "\u001b[1m575/575\u001b[0m \u001b[32m━━━━━━━━━━━━━━━━━━━━\u001b[0m\u001b[37m\u001b[0m \u001b[1m2s\u001b[0m 3ms/step - accuracy: 0.8584 - loss: 0.3624 - val_accuracy: 0.8056 - val_loss: 0.4388\n",
      "Epoch 45/50\n",
      "\u001b[1m575/575\u001b[0m \u001b[32m━━━━━━━━━━━━━━━━━━━━\u001b[0m\u001b[37m\u001b[0m \u001b[1m2s\u001b[0m 3ms/step - accuracy: 0.8467 - loss: 0.3460 - val_accuracy: 0.8472 - val_loss: 0.3579\n",
      "Epoch 46/50\n",
      "\u001b[1m575/575\u001b[0m \u001b[32m━━━━━━━━━━━━━━━━━━━━\u001b[0m\u001b[37m\u001b[0m \u001b[1m2s\u001b[0m 3ms/step - accuracy: 0.8261 - loss: 0.3834 - val_accuracy: 0.8576 - val_loss: 0.3730\n",
      "Epoch 47/50\n",
      "\u001b[1m575/575\u001b[0m \u001b[32m━━━━━━━━━━━━━━━━━━━━\u001b[0m\u001b[37m\u001b[0m \u001b[1m2s\u001b[0m 3ms/step - accuracy: 0.8733 - loss: 0.3245 - val_accuracy: 0.8750 - val_loss: 0.3644\n",
      "Epoch 48/50\n",
      "\u001b[1m575/575\u001b[0m \u001b[32m━━━━━━━━━━━━━━━━━━━━\u001b[0m\u001b[37m\u001b[0m \u001b[1m2s\u001b[0m 3ms/step - accuracy: 0.8428 - loss: 0.3591 - val_accuracy: 0.8403 - val_loss: 0.4038\n",
      "Epoch 49/50\n",
      "\u001b[1m575/575\u001b[0m \u001b[32m━━━━━━━━━━━━━━━━━━━━\u001b[0m\u001b[37m\u001b[0m \u001b[1m2s\u001b[0m 3ms/step - accuracy: 0.8530 - loss: 0.3772 - val_accuracy: 0.8646 - val_loss: 0.3522\n",
      "Epoch 50/50\n",
      "\u001b[1m575/575\u001b[0m \u001b[32m━━━━━━━━━━━━━━━━━━━━\u001b[0m\u001b[37m\u001b[0m \u001b[1m2s\u001b[0m 3ms/step - accuracy: 0.8578 - loss: 0.3118 - val_accuracy: 0.8819 - val_loss: 0.3277\n"
     ]
    }
   ],
   "source": [
    "history = model.fit(X_train, y_train, epochs=50, batch_size=2, validation_split=0.2, verbose=1)"
   ]
  },
  {
   "cell_type": "code",
   "execution_count": 99,
   "id": "f2aa70b1",
   "metadata": {},
   "outputs": [
    {
     "data": {
      "image/png": "[encoded data removed]",
      "text/plain": [
       "<Figure size 640x480 with 1 Axes>"
      ]
     },
     "metadata": {},
     "output_type": "display_data"
    }
   ],
   "source": [
    "plot_training_history(history)"
   ]
  },
  {
   "cell_type": "code",
   "execution_count": 100,
   "id": "b559ca40",
   "metadata": {},
   "outputs": [
    {
     "name": "stdout",
     "output_type": "stream",
     "text": [
      "Test Loss: 0.3154961168766022\n",
      "Test Accuracy: 0.8777777552604675\n"
     ]
    }
   ],
   "source": [
    "test_loss, test_accuracy = model.evaluate(X_test, y_test, verbose=0)\n",
    "print(f\"Test Loss: {test_loss}\")\n",
    "print(f\"Test Accuracy: {test_accuracy}\")"
   ]
  },
  {
   "cell_type": "code",
   "execution_count": 80,
   "id": "8ac07d34",
   "metadata": {},
   "outputs": [],
   "source": [
    "def predict_new_data(model, new_data, scaler, label_encoder):\n",
    "    new_data = scaler.transform(new_data)  # Ölçeklendirme\n",
    "    new_data = np.expand_dims(new_data, axis=0)  # LSTM için uygun format\n",
    "    prediction = model.predict(new_data)\n",
    "    predicted_label = label_encoder.inverse_transform([np.argmax(prediction)])\n",
    "    return predicted_label[0]"
   ]
  },
  {
   "cell_type": "code",
   "execution_count": 81,
   "id": "3d04094e",
   "metadata": {},
   "outputs": [
    {
     "name": "stdout",
     "output_type": "stream",
     "text": [
      "X shape: (1797, 3, 11)\n",
      "y shape: (1797,)\n"
     ]
    }
   ],
   "source": [
    "print(\"X shape:\", X.shape)  # X'in boyutlarını kontrol et\n",
    "print(\"y shape:\", y.shape)  # y'nin boyutlarını kontrol et"
   ]
  },
  {
   "cell_type": "code",
   "execution_count": 83,
   "id": "551dfed1",
   "metadata": {},
   "outputs": [
    {
     "data": {
      "text/plain": [
       "5"
      ]
     },
     "execution_count": 83,
     "metadata": {},
     "output_type": "execute_result"
    }
   ],
   "source": [
    "num_classes = len(label_encoder.classes_)\n",
    "num_classes"
   ]
  },
  {
   "cell_type": "code",
   "execution_count": 103,
   "id": "00592393",
   "metadata": {},
   "outputs": [
    {
     "name": "stdout",
     "output_type": "stream",
     "text": [
      "1.2.1\n"
     ]
    }
   ],
   "source": [
    "import sklearn\n",
    "print(sklearn.__version__)"
   ]
  },
  {
   "cell_type": "code",
   "execution_count": null,
   "id": "95203c58",
   "metadata": {},
   "outputs": [],
   "source": []
  }
 ],
 "metadata": {
  "kernelspec": {
   "display_name": "Python 3 (ipykernel)",
   "language": "python",
   "name": "python3"
  },
  "language_info": {
   "codemirror_mode": {
    "name": "ipython",
    "version": 3
   },
   "file_extension": ".py",
   "mimetype": "text/x-python",
   "name": "python",
   "nbconvert_exporter": "python",
   "pygments_lexer": "ipython3",
   "version": "3.10.14"
  }
 },
 "nbformat": 4,
 "nbformat_minor": 5
}
